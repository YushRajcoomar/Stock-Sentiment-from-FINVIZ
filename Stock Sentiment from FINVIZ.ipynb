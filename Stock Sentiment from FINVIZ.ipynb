{
 "cells": [
  {
   "cell_type": "code",
   "execution_count": null,
   "metadata": {},
   "outputs": [],
   "source": [
    "from bs4 import BeautifulSoup\n",
    "import pandas as pd\n",
    "import os\n",
    "from nltk.sentiment.vader import SentimentIntensityAnalyzer\n",
    "import matplotlib.pyplot as plt"
   ]
  },
  {
   "cell_type": "code",
   "execution_count": null,
   "metadata": {},
   "outputs": [],
   "source": [
    "html_tables = {}\n",
    "for table_name in os.listdir('datasets'):\n",
    "    table_path = f'datasets/{table_name}'\n",
    "    table_file = open(table_path,'r')\n",
    "    html = BeautifulSoup(table_file)\n",
    "    html_table = html.find(id='news-table')\n",
    "    html_tables[table_name] = html_table\n",
    "    \n",
    "tsla = html_tables['tsla_22sep.html']\n",
    "# Get all the table rows tagged in HTML with <tr> into 'tesla_tr'\n",
    "tsla_tr = tsla.find_all(\"tr\")\n",
    "\n",
    "for i, table_row in enumerate(tsla_tr):\n",
    "    # Read the text of the element 'a' into 'link_text'\n",
    "    link_text = table_row.a.get_text()\n",
    "    # Read the text of the element 'td' into 'data_text'\n",
    "    data_text = table_row.td.get_text()\n",
    "    if i == 3:\n",
    "        break"
   ]
  },
  {
   "cell_type": "code",
   "execution_count": null,
   "metadata": {},
   "outputs": [],
   "source": [
    "parsed_news = []\n",
    "for file_name, news_table in html_tables.items():\n",
    "    for x in news_table.findAll('tr'):\n",
    "        text = x.get_text() \n",
    "        headline = x.a.get_text()\n",
    "        # Split the text in the td tag into a list \n",
    "        date_scrape = x.td.text.split()\n",
    "        if len(date_scrape) == 1:\n",
    "            time = date_scrape[0]\n",
    "        else:\n",
    "            date = date_scrape[0]\n",
    "            time = date_scrape[1]\n",
    "        ticker = file_name[:file_name.index(\"_\")]\n",
    "        parsed_news.append([ticker,date, time, headline])"
   ]
  },
  {
   "cell_type": "code",
   "execution_count": 2,
   "metadata": {},
   "outputs": [],
   "source": [
    "new_words = {\n",
    "    'crushes': 10,\n",
    "    'beats': 5,\n",
    "    'misses': -5,\n",
    "    'trouble': -10,\n",
    "    'falls': -100,\n",
    "}\n",
    "vader = SentimentIntensityAnalyzer()\n",
    "vader.lexicon.update(new_words)\n",
    "\n",
    "columns = ['ticker', 'date', 'time', 'headline']\n",
    "scored_news = pd.DataFrame(parsed_news,columns=columns)\n",
    "scores = scored_news['headline'].apply(lambda x:vader.polarity_scores(x))\n",
    "scores_df = pd.DataFrame([x.values() for x in scores],columns=scores[0].keys())\n",
    "scored_news = pd.concat([scored_news,scores_df],axis=1)\n",
    "scored_news['date'] = pd.to_datetime(scored_news.date).dt.date"
   ]
  },
  {
   "cell_type": "code",
   "execution_count": null,
   "metadata": {},
   "outputs": [],
   "source": [
    "plt.style.use(\"fivethirtyeight\")\n",
    "%matplotlib inline\n",
    "\n",
    "mean_c = scored_news.groupby(['date','ticker']).mean()\n",
    "mean_c = mean_c.unstack(level='ticker')\n",
    "mean_c = mean_c.xs('compound',axis=1)\n",
    "mean_c.plot.bar()"
   ]
  },
  {
   "cell_type": "code",
   "execution_count": null,
   "metadata": {},
   "outputs": [],
   "source": [
    "num_news_before = len(scored_news['headline'])\n",
    "scored_news_clean = scored_news.drop_duplicates(subset=['ticker','headline'])\n",
    "num_news_after = len(scored_news_clean['headline'])\n",
    "\n",
    "single_day = scored_news_clean.set_index(['ticker', 'date'])\n",
    "single_day.drop('compound')\n",
    "single_day = single_day.xs('fb')\n",
    "single_day = single_day['2019-01-03']\n",
    "single_day['time'] = pd.to_datetime(single_day['time']).dt.time\n",
    "single_day = single_day.set_index('time')\n",
    "single_day = single_day.sort_index()"
   ]
  },
  {
   "cell_type": "code",
   "execution_count": null,
   "metadata": {},
   "outputs": [],
   "source": [
    "TITLE = \"Positive, negative and neutral sentiment for FB on 2019-01-03\"\n",
    "COLORS = [\"red\", \"orange\", \"green\"]\n",
    "plot_day = single_day.drop(['headline','compound'],axis=1)\n",
    "plot_day.columns = ['negative','neutral','positive']\n",
    "plot_day.plot.bar(stacked=True,figsize=(10,6),\n",
    "                  title = TITLE,\n",
    "                  color=COLORS).legend(bbox_to_anchor=(1.2,0.5))"
   ]
  }
 ],
 "metadata": {
  "kernelspec": {
   "display_name": "Python 3",
   "language": "python",
   "name": "python3"
  },
  "language_info": {
   "codemirror_mode": {
    "name": "ipython",
    "version": 3
   },
   "file_extension": ".py",
   "mimetype": "text/x-python",
   "name": "python",
   "nbconvert_exporter": "python",
   "pygments_lexer": "ipython3",
   "version": "3.7.6"
  }
 },
 "nbformat": 4,
 "nbformat_minor": 4
}
